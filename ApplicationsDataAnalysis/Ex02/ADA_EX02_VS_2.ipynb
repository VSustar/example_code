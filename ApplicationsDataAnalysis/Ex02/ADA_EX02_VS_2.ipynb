{
 "cells": [
  {
   "cell_type": "markdown",
   "metadata": {},
   "source": [
    "Vid Sustar <br>\n",
    "student number 508706 <br>\n",
    "vid.sustar@utu.fi  <br>\n",
    "29.1.2020  <br>"
   ]
  },
  {
   "cell_type": "markdown",
   "metadata": {},
   "source": [
    "# Exercise 2 | TKO_2096 Application of Data Analysis 2020"
   ]
  },
  {
   "cell_type": "markdown",
   "metadata": {},
   "source": [
    "#### Prediction of the metal ion content from multi-parameter data <br>\n",
    "- Use K-Nearest Neighbor Regression with euclidean distance to predict total metal concentration (c_total), concentration of Cadmium (Cd) and concentration of Lead (Pb), for each sample using number of neighbors k = 3.<br> <br>\n",
    "\n",
    "    - You may use Nearest Neighbor Regression from https://scikit-learn.org/stable/modules/neighbors.html\n",
    "    - The data should be standarized using z-score.\n",
    "    - Implement your own Leave-One-Out cross-validation and calculate the C-index for each output (c_total, Cd, Pb). \n",
    "    - Implement your own Leave-Replicas-Out cross-validation and calculate the C-index for each output (c_total, Cd, Pb).\n",
    "    - This exercise provides a bonus point: see \"Bonus exercise\" in this notebook for details.\n",
    "    - Return your solution as a Jupyter Notebook file (include your full name in the file name).\n",
    "    - Submit to moodle your solution on **Wednesday 29. of January** at the latest."
   ]
  },
  {
   "cell_type": "markdown",
   "metadata": {},
   "source": [
    "## Import libraries"
   ]
  },
  {
   "cell_type": "code",
   "execution_count": 1,
   "metadata": {},
   "outputs": [],
   "source": [
    "%matplotlib inline\n",
    "import pandas\n",
    "import pandas as pd\n",
    "import math \n",
    "from sklearn.neighbors import KNeighborsRegressor\n",
    "import random\n",
    "from numpy.random import permutation\n",
    "import numpy as np\n",
    "import matplotlib.pyplot as plt"
   ]
  },
  {
   "cell_type": "markdown",
   "metadata": {},
   "source": [
    "## Read and visualize the dataset"
   ]
  },
  {
   "cell_type": "code",
   "execution_count": 46,
   "metadata": {},
   "outputs": [
    {
     "name": "stdout",
     "output_type": "stream",
     "text": [
      "Data has: #rows:  225  #columns:  6\n"
     ]
    },
    {
     "data": {
      "text/plain": [
       "<bound method DataFrame.info of      c_total      Cd      Pb    Mod1  Mod2    Mod3\n",
       "0       2000   800.0  1200.0  126430  2604    6996\n",
       "1         35    14.0    21.0   20597   271  138677\n",
       "2         35    14.0    21.0   24566   269  161573\n",
       "3         35    35.0     0.0  105732   971  132590\n",
       "4        100    20.0    80.0   57774  5416   93798\n",
       "..       ...     ...     ...     ...   ...     ...\n",
       "220     2000     0.0  2000.0   45323  2759    5101\n",
       "221     5000  4000.0  1000.0   22396   563    7454\n",
       "222       50    30.0    20.0   49520  2261  210270\n",
       "223       50     0.0    50.0   17201   293  118509\n",
       "224     2000   800.0  1200.0  127269  2453    7420\n",
       "\n",
       "[225 rows x 6 columns]>"
      ]
     },
     "metadata": {},
     "output_type": "display_data"
    }
   ],
   "source": [
    "#In this cell read the file water_data.csv\n",
    "#Print the dataset dimesions (i.e. number of rows and columns)\n",
    "\n",
    "with open(\"water_data.csv\", 'r') as csvfile:\n",
    "    water = pandas.read_csv(csvfile)\n",
    "\n",
    "\n",
    "x_columns = ['Mod1', 'Mod2', 'Mod3']\n",
    "# The columns that we want to predict.\n",
    "y_columns = ['c_total', 'Cd', 'Pb']\n",
    "water_numeric = water[x_columns]\n",
    "# Standardize the Mod columns\n",
    "rows,cols=water.shape\n",
    "print(\"Data has: #rows: \",rows,\" #columns: \",cols)\n",
    "display(water.info)\n"
   ]
  },
  {
   "cell_type": "markdown",
   "metadata": {},
   "source": [
    "#### To show understanding of the data, answer the following questions:\n",
    "- How many different mixtures of Cadmium (Cd) and Lead (Pb) were measured? <br>\n",
    "- How many total concentrations (c_total) were measured? <br>\n",
    "- For each c_total, how many times the measurement was repeated? To answer this question <br>\n",
    "  create a table or make a bar plot of c_total / number of repetitions "
   ]
  },
  {
   "cell_type": "code",
   "execution_count": 54,
   "metadata": {},
   "outputs": [
    {
     "name": "stdout",
     "output_type": "stream",
     "text": [
      "Number of different Cd concentrations:  40\n",
      "Number of different Pb concentrations:  40\n",
      "Number of total concentrations measurements:  225\n",
      "Number of different total concentrations:  12\n",
      "\n",
      " Count of different total concentrations:\n",
      "         count\n",
      "c_total       \n",
      "0            3\n",
      "14          18\n",
      "20          18\n",
      "35          18\n",
      "50          24\n",
      "70          24\n",
      "100         24\n",
      "200         24\n",
      "500         18\n",
      "1000        18\n",
      "2000        18\n",
      "5000        18\n"
     ]
    },
    {
     "data": {
      "image/png": "[encoded data removed]",
      "text/plain": [
       "<Figure size 432x288 with 1 Axes>"
      ]
     },
     "metadata": {
      "needs_background": "light"
     },
     "output_type": "display_data"
    }
   ],
   "source": [
    "print(\"Number of different Cd concentrations: \",water['Cd'].nunique())\n",
    "print(\"Number of different Pb concentrations: \",water['Pb'].nunique())\n",
    "\n",
    "print(\"Number of total concentrations measurements: \",water['c_total'].count())\n",
    "print(\"Number of different total concentrations: \",water['c_total'].nunique())\n",
    "\n",
    "dups_tot_conc = water.pivot_table(index=['c_total'], aggfunc='size')\n",
    "\n",
    "print ('\\n Count of different total concentrations:')\n",
    "\n",
    "df = pd.DataFrame({'count': dups_tot_conc.values}, index=dups_tot_conc.index)\n",
    "print(df)\n",
    "ax = df.plot.bar(rot=0)"
   ]
  },
  {
   "cell_type": "markdown",
   "metadata": {},
   "source": [
    "## Standardization of the dataset"
   ]
  },
  {
   "cell_type": "code",
   "execution_count": 55,
   "metadata": {},
   "outputs": [],
   "source": [
    "#Standardize the dataset features by removing the mean and scaling to unit variance. \n",
    "#In other words, use z-score to scale the dataset features (Mod1, Mod2, Mod3) \n",
    "#Print the 5 first samples (i.e. rows) of the scaled dataset\n",
    "water[x_columns] = (water_numeric - water_numeric.mean()) / water_numeric.std() #standardization!\n",
    "# Randomly shuffle the index of water.\n",
    "ordered_indices=np.argsort(water.index)\n"
   ]
  },
  {
   "cell_type": "markdown",
   "metadata": {},
   "source": [
    "## C-index code "
   ]
  },
  {
   "cell_type": "code",
   "execution_count": 56,
   "metadata": {},
   "outputs": [],
   "source": [
    "def c_index_calc(true_labels, predictions):\n",
    "    n=0\n",
    "    h_sum=0\n",
    "    #print(\"len(true_labels)\",len(true_labels))\n",
    "    for i in range(0,len(true_labels)): \n",
    "        t=true_labels[i]\n",
    "        p=predictions[i]\n",
    "        for j in range(i+1, len(true_labels)):\n",
    "            nt=true_labels[j]\n",
    "            np=predictions[j]\n",
    "            #print(\"t,nt\",t,nt)\n",
    "            if(t!=nt):\n",
    "                n=n+1\n",
    "                if((p<np) and (t<nt)) or ((p>np) and (t>nt)):\n",
    "                    h_sum=h_sum+1\n",
    "                elif(p==np):\n",
    "                    h_sum=h_sum+0.5\n",
    "    c_index=h_sum/n\n",
    "    return c_index"
   ]
  },
  {
   "cell_type": "code",
   "execution_count": 57,
   "metadata": {},
   "outputs": [
    {
     "name": "stdout",
     "output_type": "stream",
     "text": [
      "0.75\n"
     ]
    }
   ],
   "source": [
    "#test cindex function with following values\n",
    "true_labels = [-1, 1, 1, -1, 1]\n",
    "predictions = [0.60, 0.80, 0.75, 0.75, 0.70]\n",
    "cindx = c_index_calc(true_labels, predictions)\n",
    "print(cindx)"
   ]
  },
  {
   "cell_type": "markdown",
   "metadata": {},
   "source": [
    "## Functions"
   ]
  },
  {
   "cell_type": "code",
   "execution_count": 58,
   "metadata": {},
   "outputs": [],
   "source": [
    "# The columns that we will be making predictions with.\n",
    "def cross_validation(y_column,dataset,folds, repout,k):\n",
    "    actual=[]\n",
    "    predictions=[]\n",
    "    for i in range(folds):\n",
    "        testStart = int(i*(len(dataset)/folds)) #dividing the initial training set into subtesting and subtrainning in ratio 1/# folds\n",
    "        testEnd = int((i+1)*(len(dataset)/folds))       \n",
    "        ordered_indices=np.argsort(dataset.index)\n",
    "        test = dataset.loc[ordered_indices[testStart:testEnd]]\n",
    "        train2 = dataset.loc[ordered_indices[testEnd:]]\n",
    "        train1 = dataset.loc[ordered_indices[:testStart]]\n",
    "        train=pd.concat([train1, train2])\n",
    "        if repout:\n",
    "            test_c_tot=test.iloc[0]['c_total']\n",
    "            test_Cd=test.iloc[0]['Cd']\n",
    "            test_Pb=test.iloc[0]['Pb']\n",
    "            train=train.loc[(train.c_total != test_c_tot) & (train.Cd != test_Cd) & (train.Pb != test_Pb), :]\n",
    "        knn = KNeighborsRegressor(n_neighbors=k)\n",
    "        knn.fit(train[x_columns], train[y_column])\n",
    "        actual.append(test[y_column].tolist()[0] )\n",
    "        predictions.append(int(knn.predict(test[x_columns]).tolist()[0])) \n",
    "    c_indx=c_index_calc(actual, predictions)\n",
    "    return(c_indx)\n",
    "    \n",
    "output_list=['c_total', 'Cd', 'Pb']\n",
    "k_list=[1, 2, 3, 4, 5]\n",
    "\n"
   ]
  },
  {
   "cell_type": "markdown",
   "metadata": {},
   "source": [
    "## Results for Leave-One-Out cross-validation"
   ]
  },
  {
   "cell_type": "code",
   "execution_count": 59,
   "metadata": {},
   "outputs": [
    {
     "name": "stdout",
     "output_type": "stream",
     "text": [
      "For Leave-One-Out cross-validation:\n",
      "\tFOR OUTPUT:  c_total\n",
      "\t\tFOR k:  1 NEIGHBOURS, C INDEX IS: 0.908\n",
      "\t\tFOR k:  2 NEIGHBOURS, C INDEX IS: 0.913\n",
      "\t\tFOR k:  3 NEIGHBOURS, C INDEX IS: 0.914\n",
      "\t\tFOR k:  4 NEIGHBOURS, C INDEX IS: 0.906\n",
      "\t\tFOR k:  5 NEIGHBOURS, C INDEX IS: 0.893\n",
      "\tFOR OUTPUT:  Cd\n",
      "\t\tFOR k:  1 NEIGHBOURS, C INDEX IS: 0.921\n",
      "\t\tFOR k:  2 NEIGHBOURS, C INDEX IS: 0.915\n",
      "\t\tFOR k:  3 NEIGHBOURS, C INDEX IS: 0.898\n",
      "\t\tFOR k:  4 NEIGHBOURS, C INDEX IS: 0.879\n",
      "\t\tFOR k:  5 NEIGHBOURS, C INDEX IS: 0.862\n",
      "\tFOR OUTPUT:  Pb\n",
      "\t\tFOR k:  1 NEIGHBOURS, C INDEX IS: 0.879\n",
      "\t\tFOR k:  2 NEIGHBOURS, C INDEX IS: 0.884\n",
      "\t\tFOR k:  3 NEIGHBOURS, C INDEX IS: 0.873\n",
      "\t\tFOR k:  4 NEIGHBOURS, C INDEX IS: 0.860\n",
      "\t\tFOR k:  5 NEIGHBOURS, C INDEX IS: 0.853\n"
     ]
    }
   ],
   "source": [
    "\n",
    "print(\"For Leave-One-Out cross-validation:\")\n",
    "for output in output_list:\n",
    "    print(\"\\tFOR OUTPUT: \", output)\n",
    "    for k in k_list:\n",
    "        c_ind_list=[]\n",
    "\n",
    "        cindex=cross_validation(output,water,len(water)-1,0,k)\n",
    "        c_ind_list.append(cindex)\n",
    "        print(\"\\t\\tFOR k: \", k,\"NEIGHBOURS, C INDEX IS: {0:.3f}\".format(cindex))\n"
   ]
  },
  {
   "cell_type": "markdown",
   "metadata": {},
   "source": [
    "## Results for Leave-Replicas-Out cross-validation"
   ]
  },
  {
   "cell_type": "code",
   "execution_count": 60,
   "metadata": {},
   "outputs": [
    {
     "name": "stdout",
     "output_type": "stream",
     "text": [
      "For Leave-Replicas-Out cross-validation:\n",
      "\tFOR OUTPUT:  c_total\n",
      "\t\tFOR k:  1 NEIGHBOURS, C INDEX IS: 0.774\n",
      "\t\tFOR k:  2 NEIGHBOURS, C INDEX IS: 0.765\n",
      "\t\tFOR k:  3 NEIGHBOURS, C INDEX IS: 0.764\n",
      "\t\tFOR k:  4 NEIGHBOURS, C INDEX IS: 0.759\n",
      "\t\tFOR k:  5 NEIGHBOURS, C INDEX IS: 0.763\n",
      "\tFOR OUTPUT:  Cd\n",
      "\t\tFOR k:  1 NEIGHBOURS, C INDEX IS: 0.566\n",
      "\t\tFOR k:  2 NEIGHBOURS, C INDEX IS: 0.552\n",
      "\t\tFOR k:  3 NEIGHBOURS, C INDEX IS: 0.544\n",
      "\t\tFOR k:  4 NEIGHBOURS, C INDEX IS: 0.542\n",
      "\t\tFOR k:  5 NEIGHBOURS, C INDEX IS: 0.540\n",
      "\tFOR OUTPUT:  Pb\n",
      "\t\tFOR k:  1 NEIGHBOURS, C INDEX IS: 0.664\n",
      "\t\tFOR k:  2 NEIGHBOURS, C INDEX IS: 0.667\n",
      "\t\tFOR k:  3 NEIGHBOURS, C INDEX IS: 0.670\n",
      "\t\tFOR k:  4 NEIGHBOURS, C INDEX IS: 0.669\n",
      "\t\tFOR k:  5 NEIGHBOURS, C INDEX IS: 0.667\n"
     ]
    }
   ],
   "source": [
    "\n",
    "print(\"For Leave-Replicas-Out cross-validation:\")\n",
    "for output in output_list:\n",
    "    print(\"\\tFOR OUTPUT: \", output)\n",
    "    for k in k_list:\n",
    "        c_ind_list=[]\n",
    "\n",
    "        cindex=cross_validation(output,water,len(water)-1,1,k)\n",
    "        c_ind_list.append(cindex)\n",
    "        print(\"\\t\\tFOR k: \", k,\"NEIGHBOURS, C INDEX IS: {0:.3f}\".format(cindex))"
   ]
  },
  {
   "cell_type": "markdown",
   "metadata": {},
   "source": [
    "## Interpretation of results\n",
    "#### Answer the following questions based on the results obtained\n",
    "- Which cross-validation approach had more optimistic results?\n",
    "- Which cross-validation generalize better on unseen data? Why?"
   ]
  },
  {
   "cell_type": "markdown",
   "metadata": {},
   "source": [
    "Which cross-validation approach had more optimistic results? Leave one out.\n",
    "Which cross-validation generalize better on unseen data? Why? The one where we removed the replicas out of training data. \n",
    "Because the training and test data should have independent data."
   ]
  },
  {
   "cell_type": "markdown",
   "metadata": {},
   "source": [
    "## Bonus exercise\n",
    "Using K-Nearest Neighbor Regression where k = 1, 2, 3, 4, 5 compute the corresponding C-indices for the outputs (c_total, Cd, Pb) with Leave-One-Out and with Leave-Replicas-Out cross-validation. Plot your results as k / C-index for each output. "
   ]
  },
  {
   "cell_type": "code",
   "execution_count": 61,
   "metadata": {},
   "outputs": [
    {
     "name": "stdout",
     "output_type": "stream",
     "text": [
      "For Leave-One-Out cross-validation:\n",
      "\tFOR OUTPUT:  c_total\n",
      "\t\tFOR k:  1 NEIGHBOURS, C INDEX IS: 0.908\n",
      "\t\tFOR k:  2 NEIGHBOURS, C INDEX IS: 0.913\n",
      "\t\tFOR k:  3 NEIGHBOURS, C INDEX IS: 0.914\n",
      "\t\tFOR k:  4 NEIGHBOURS, C INDEX IS: 0.906\n",
      "\t\tFOR k:  5 NEIGHBOURS, C INDEX IS: 0.893\n"
     ]
    },
    {
     "data": {
      "image/png": "[encoded data removed]",
      "text/plain": [
       "<Figure size 432x288 with 1 Axes>"
      ]
     },
     "metadata": {
      "needs_background": "light"
     },
     "output_type": "display_data"
    },
    {
     "name": "stdout",
     "output_type": "stream",
     "text": [
      "\tFOR OUTPUT:  Cd\n",
      "\t\tFOR k:  1 NEIGHBOURS, C INDEX IS: 0.921\n",
      "\t\tFOR k:  2 NEIGHBOURS, C INDEX IS: 0.915\n",
      "\t\tFOR k:  3 NEIGHBOURS, C INDEX IS: 0.898\n",
      "\t\tFOR k:  4 NEIGHBOURS, C INDEX IS: 0.879\n",
      "\t\tFOR k:  5 NEIGHBOURS, C INDEX IS: 0.862\n"
     ]
    },
    {
     "data": {
      "image/png": "[encoded data removed]",
      "text/plain": [
       "<Figure size 432x288 with 1 Axes>"
      ]
     },
     "metadata": {
      "needs_background": "light"
     },
     "output_type": "display_data"
    },
    {
     "name": "stdout",
     "output_type": "stream",
     "text": [
      "\tFOR OUTPUT:  Pb\n",
      "\t\tFOR k:  1 NEIGHBOURS, C INDEX IS: 0.879\n",
      "\t\tFOR k:  2 NEIGHBOURS, C INDEX IS: 0.884\n",
      "\t\tFOR k:  3 NEIGHBOURS, C INDEX IS: 0.873\n",
      "\t\tFOR k:  4 NEIGHBOURS, C INDEX IS: 0.860\n",
      "\t\tFOR k:  5 NEIGHBOURS, C INDEX IS: 0.853\n"
     ]
    },
    {
     "data": {
      "image/png": "[encoded data removed]",
      "text/plain": [
       "<Figure size 432x288 with 1 Axes>"
      ]
     },
     "metadata": {
      "needs_background": "light"
     },
     "output_type": "display_data"
    },
    {
     "name": "stdout",
     "output_type": "stream",
     "text": [
      "For Leave-Replicas-Out cross-validation:\n",
      "\tFOR OUTPUT:  c_total\n",
      "\t\tFOR k:  1 NEIGHBOURS, C INDEX IS: 0.774\n",
      "\t\tFOR k:  2 NEIGHBOURS, C INDEX IS: 0.765\n",
      "\t\tFOR k:  3 NEIGHBOURS, C INDEX IS: 0.764\n",
      "\t\tFOR k:  4 NEIGHBOURS, C INDEX IS: 0.759\n",
      "\t\tFOR k:  5 NEIGHBOURS, C INDEX IS: 0.763\n"
     ]
    },
    {
     "data": {
      "image/png": "[encoded data removed]",
      "text/plain": [
       "<Figure size 432x288 with 1 Axes>"
      ]
     },
     "metadata": {
      "needs_background": "light"
     },
     "output_type": "display_data"
    },
    {
     "name": "stdout",
     "output_type": "stream",
     "text": [
      "\tFOR OUTPUT:  Cd\n",
      "\t\tFOR k:  1 NEIGHBOURS, C INDEX IS: 0.566\n",
      "\t\tFOR k:  2 NEIGHBOURS, C INDEX IS: 0.552\n",
      "\t\tFOR k:  3 NEIGHBOURS, C INDEX IS: 0.544\n",
      "\t\tFOR k:  4 NEIGHBOURS, C INDEX IS: 0.542\n",
      "\t\tFOR k:  5 NEIGHBOURS, C INDEX IS: 0.540\n"
     ]
    },
    {
     "data": {
      "image/png": "[encoded data removed]",
      "text/plain": [
       "<Figure size 432x288 with 1 Axes>"
      ]
     },
     "metadata": {
      "needs_background": "light"
     },
     "output_type": "display_data"
    },
    {
     "name": "stdout",
     "output_type": "stream",
     "text": [
      "\tFOR OUTPUT:  Pb\n",
      "\t\tFOR k:  1 NEIGHBOURS, C INDEX IS: 0.664\n",
      "\t\tFOR k:  2 NEIGHBOURS, C INDEX IS: 0.667\n",
      "\t\tFOR k:  3 NEIGHBOURS, C INDEX IS: 0.670\n",
      "\t\tFOR k:  4 NEIGHBOURS, C INDEX IS: 0.669\n",
      "\t\tFOR k:  5 NEIGHBOURS, C INDEX IS: 0.667\n"
     ]
    },
    {
     "data": {
      "image/png": "[encoded data removed]",
      "text/plain": [
       "<Figure size 432x288 with 1 Axes>"
      ]
     },
     "metadata": {
      "needs_background": "light"
     },
     "output_type": "display_data"
    }
   ],
   "source": [
    "#SEE ABOVE #Write and run the code for Extra work section in this cell.\n",
    "\n",
    "print(\"For Leave-One-Out cross-validation:\")\n",
    "for output in output_list:\n",
    "    print(\"\\tFOR OUTPUT: \", output)\n",
    "    c_ind_list=[]\n",
    "    for k in k_list:\n",
    "        cindex=cross_validation(output,water,len(water)-1,0,k)\n",
    "        c_ind_list.append(cindex)\n",
    "        print(\"\\t\\tFOR k: \", k,\"NEIGHBOURS, C INDEX IS: {0:.3f}\".format(cindex))\n",
    "    #print(c_ind_list)\n",
    "    plt.plot(k_list,c_ind_list)\n",
    "    plt.ylabel('C INDEX')\n",
    "    plt.xlabel('K NUMBER OF NEIGHBOURS')\n",
    "    plt.show()\n",
    "\n",
    "print(\"For Leave-Replicas-Out cross-validation:\")\n",
    "for output in output_list:\n",
    "    print(\"\\tFOR OUTPUT: \", output)\n",
    "    c_ind_list=[]\n",
    "    for k in k_list:\n",
    "        cindex=cross_validation(output,water,len(water)-1,1,k)\n",
    "        c_ind_list.append(cindex)\n",
    "        print(\"\\t\\tFOR k: \", k,\"NEIGHBOURS, C INDEX IS: {0:.3f}\".format(cindex))\n",
    "    #print(c_ind_list)\n",
    "    plt.plot(k_list,c_ind_list)\n",
    "    plt.ylabel('C INDEX')\n",
    "    plt.xlabel('K NUMBER OF NEIGHBOURS')\n",
    "    plt.show()"
   ]
  },
  {
   "cell_type": "code",
   "execution_count": null,
   "metadata": {},
   "outputs": [],
   "source": []
  }
 ],
 "metadata": {
  "kernelspec": {
   "display_name": "Python 3",
   "language": "python",
   "name": "python3"
  },
  "language_info": {
   "codemirror_mode": {
    "name": "ipython",
    "version": 3
   },
   "file_extension": ".py",
   "mimetype": "text/x-python",
   "name": "python",
   "nbconvert_exporter": "python",
   "pygments_lexer": "ipython3",
   "version": "3.7.4"
  },
  "toc": {
   "base_numbering": 1,
   "nav_menu": {},
   "number_sections": false,
   "sideBar": true,
   "skip_h1_title": false,
   "title_cell": "Table of Contents",
   "title_sidebar": "Contents",
   "toc_cell": false,
   "toc_position": {},
   "toc_section_display": true,
   "toc_window_display": true
  },
  "varInspector": {
   "cols": {
    "lenName": 16,
    "lenType": 16,
    "lenVar": 40
   },
   "kernels_config": {
    "python": {
     "delete_cmd_postfix": "",
     "delete_cmd_prefix": "del ",
     "library": "var_list.py",
     "varRefreshCmd": "print(var_dic_list())"
    },
    "r": {
     "delete_cmd_postfix": ") ",
     "delete_cmd_prefix": "rm(",
     "library": "var_list.r",
     "varRefreshCmd": "cat(var_dic_list()) "
    }
   },
   "types_to_exclude": [
    "module",
    "function",
    "builtin_function_or_method",
    "instance",
    "_Feature"
   ],
   "window_display": false
  }
 },
 "nbformat": 4,
 "nbformat_minor": 2
}
